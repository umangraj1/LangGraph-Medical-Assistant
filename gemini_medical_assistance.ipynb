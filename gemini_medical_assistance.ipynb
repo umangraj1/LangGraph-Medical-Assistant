{
  "nbformat": 4,
  "nbformat_minor": 0,
  "metadata": {
    "colab": {
      "provenance": []
    },
    "kernelspec": {
      "name": "python3",
      "display_name": "Python 3"
    },
    "language_info": {
      "name": "python"
    }
  },
  "cells": [
    {
      "cell_type": "markdown",
      "source": [
        "# STEP 0: Install dependencies"
      ],
      "metadata": {
        "id": "K3yWWtQ8cC4i"
      }
    },
    {
      "cell_type": "code",
      "source": [
        "!pip install -qU google-generativeai==0.8.5 google-ai-generativelanguage==0.6.15 \\\n",
        "langgraph langchain langchain-google-genai openai"
      ],
      "metadata": {
        "id": "oFZcxQ6JAPkp"
      },
      "execution_count": null,
      "outputs": []
    },
    {
      "cell_type": "markdown",
      "source": [
        "# STEP 1: Imports and secure API key input"
      ],
      "metadata": {
        "id": "XvoFPl11cFhj"
      }
    },
    {
      "cell_type": "code",
      "source": [
        "import os\n",
        "import getpass\n",
        "from langgraph.graph import StateGraph, END\n",
        "from langchain_google_genai import ChatGoogleGenerativeAI\n",
        "from langchain_core.messages import HumanMessage"
      ],
      "metadata": {
        "id": "dR3jwhs2CxtH"
      },
      "execution_count": null,
      "outputs": []
    },
    {
      "cell_type": "markdown",
      "source": [
        "\n",
        "# Secure Gemini API Key input"
      ],
      "metadata": {
        "id": "W28u20SxcIiH"
      }
    },
    {
      "cell_type": "code",
      "source": [
        "os.environ['GOOGLE_API_KEY'] = getpass.getpass(\"Enter the Gemini API Key: \")  #Paste your gemini API key"
      ],
      "metadata": {
        "colab": {
          "base_uri": "https://localhost:8080/"
        },
        "id": "Pwy7Aw-BE3z3",
        "outputId": "5c237c90-13b9-4329-dacc-3582cb436b6b"
      },
      "execution_count": null,
      "outputs": [
        {
          "name": "stdout",
          "output_type": "stream",
          "text": [
            "Enter the Gemini API Key: ··········\n"
          ]
        }
      ]
    },
    {
      "cell_type": "markdown",
      "source": [
        "# STEP 2: Initialize Gemini 1.5 Flash"
      ],
      "metadata": {
        "id": "eusINPuVcLXp"
      }
    },
    {
      "cell_type": "code",
      "source": [
        "llm = ChatGoogleGenerativeAI(model = \"models/gemini-1.5-flash-latest\", temperature = 0.2)"
      ],
      "metadata": {
        "id": "OEmUGA8DGzPp"
      },
      "execution_count": null,
      "outputs": []
    },
    {
      "cell_type": "markdown",
      "source": [
        "# STEP 3: Node to ask user for symptom"
      ],
      "metadata": {
        "id": "o07zbkLWcOVW"
      }
    },
    {
      "cell_type": "code",
      "source": [
        "def get_symptom(state: dict) -> dict:\n",
        "    symptom = input(\"Welcome to XYZ hospital, Please enter your symptom: \")\n",
        "    state[\"symptom\"] = symptom\n",
        "    return state"
      ],
      "metadata": {
        "id": "o4rZHepIHxJh"
      },
      "execution_count": null,
      "outputs": []
    },
    {
      "cell_type": "markdown",
      "source": [
        "# STEP 4: Node to classify the symptom"
      ],
      "metadata": {
        "id": "0KIzyYPVcRVm"
      }
    },
    {
      "cell_type": "code",
      "source": [
        "def classify_symptom(state: dict) -> dict:\n",
        "    prompt = (\n",
        "        \"You are a helpful Medical Assistant, classify the symptom below into one of the categories \\n\"\n",
        "        \"-General\\n -Emergency \\n - mental health \\n\"\n",
        "        f\"Symptom: {state['symptom']} \\n\"\n",
        "        \"Respond only with one word : General, Emergency or Mental Health\"\n",
        "        \"#Example : input : I have fever, output : General\"\n",
        "    )\n",
        "    response = llm.invoke([HumanMessage(content=prompt)])\n",
        "    category = response.content.strip()\n",
        "    print(f\"LLM classifies the symptom as: {category}\")\n",
        "    state[\"category\"] = category\n",
        "    return state"
      ],
      "metadata": {
        "id": "9aRWGGZ7Jde1"
      },
      "execution_count": null,
      "outputs": []
    },
    {
      "cell_type": "markdown",
      "source": [
        "# STEP 5: Router logic to route to the correct node\n"
      ],
      "metadata": {
        "id": "kESmxbnicWpS"
      }
    },
    {
      "cell_type": "code",
      "source": [
        "def symptom_router(state: dict) -> dict:\n",
        "    cat = state[\"category\"].lower()\n",
        "    if \"general\" in cat:\n",
        "        return\"general\"\n",
        "    elif \"emergency\" in cat:\n",
        "        return\"emergency\"\n",
        "    elif \"mental\" in cat:\n",
        "        return\"mental_health\"\n",
        "    else:\n",
        "        return \"general\""
      ],
      "metadata": {
        "id": "mXLzdUh4MSJP"
      },
      "execution_count": null,
      "outputs": []
    },
    {
      "cell_type": "markdown",
      "source": [
        "# STEP 6: Category-specific response nodes\n"
      ],
      "metadata": {
        "id": "cZuR4VGscake"
      }
    },
    {
      "cell_type": "code",
      "source": [
        "def general_node(state: dict) -> dict:\n",
        "    state[\"answer\"] = f\" '{state['symptom']}' : seems general : directing you to general ward for doctor consultation\"\n",
        "    return state\n",
        "\n",
        "def emergency_node(state: dict) -> dict:\n",
        "    state[\"answer\"] = f\" '{state['symptom']}' : It is a Medical Emergency : seeking immediate help \"\n",
        "    return state\n",
        "\n",
        "def mental_health_node(state: dict) -> dict:\n",
        "    state[\"answer\"] = f\" '{state['symptom']}' : seems like a mental health issue: talk to our councellor \"\n",
        "    return state"
      ],
      "metadata": {
        "id": "v_kGhnjWOg4C"
      },
      "execution_count": null,
      "outputs": []
    },
    {
      "cell_type": "markdown",
      "source": [
        "# STEP 7: Build LangGraph\n"
      ],
      "metadata": {
        "id": "I1ek0SwzcehS"
      }
    },
    {
      "cell_type": "code",
      "source": [
        "builder = StateGraph(dict)\n",
        "\n",
        "builder.set_entry_point(\"get_symptom\")\n",
        "builder.add_node(\"get_symptom\", get_symptom)\n",
        "builder.add_node(\"classify\", classify_symptom)\n",
        "builder.add_node(\"general\", general_node)\n",
        "builder.add_node(\"emergency\", emergency_node)\n",
        "builder.add_node(\"mental_health\", mental_health_node)\n",
        "\n",
        "builder.add_edge(\"get_symptom\", \"classify\")\n",
        "builder.add_conditional_edges(\"classify\", symptom_router, {\n",
        "    \"general\" : \"general\",\n",
        "    \"emergency\" : \"emergency\",\n",
        "    \"mental_health\" : \"mental_health\"\n",
        "})\n",
        "\n",
        "builder.add_edge(\"general\", END)\n",
        "builder.add_edge(\"emergency\", END)\n",
        "builder.add_edge(\"mental_health\", END)\n"
      ],
      "metadata": {
        "colab": {
          "base_uri": "https://localhost:8080/"
        },
        "id": "fJXnnsPuQLnZ",
        "outputId": "7f8bf90e-8b69-4de8-e27e-6e7d25468cd3"
      },
      "execution_count": null,
      "outputs": [
        {
          "output_type": "execute_result",
          "data": {
            "text/plain": [
              "<langgraph.graph.state.StateGraph at 0x7d7185c34650>"
            ]
          },
          "metadata": {},
          "execution_count": 90
        }
      ]
    },
    {
      "cell_type": "markdown",
      "source": [
        "# STEP 8: Compile and invoke the graph\n"
      ],
      "metadata": {
        "id": "GbAgCeZYci5k"
      }
    },
    {
      "cell_type": "code",
      "source": [
        "graph = builder.compile()\n",
        "final_state = graph.invoke({})\n",
        "print(\"Final Output \\n\")\n",
        "print(final_state[\"answer\"])"
      ],
      "metadata": {
        "colab": {
          "base_uri": "https://localhost:8080/"
        },
        "id": "jGv90XnQSxOs",
        "outputId": "ef67cf42-f165-4fb9-f73d-8768d24a0bf2"
      },
      "execution_count": null,
      "outputs": [
        {
          "output_type": "stream",
          "name": "stdout",
          "text": [
            "Welcome to XYZ hospital, Please enter your symptom: Hi I am feeling cold\n",
            "LLM classifies the symptom as: General\n",
            "Final Output \n",
            "\n",
            " 'Hi I am feeling cold' : seems general : directing you to general ward for doctor consultation\n"
          ]
        }
      ]
    },
    {
      "cell_type": "code",
      "source": [],
      "metadata": {
        "id": "tUI--pA4-8G-"
      },
      "execution_count": null,
      "outputs": []
    }
  ]
}